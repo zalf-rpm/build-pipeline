{
 "cells": [
  {
   "cell_type": "code",
   "execution_count": 1,
   "id": "e104195b-3783-4427-a1e3-69cf15d38af6",
   "metadata": {},
   "outputs": [
    {
     "name": "stdout",
     "output_type": "stream",
     "text": [
      "Starting 4 engines with <class 'ipyparallel.cluster.launcher.LocalEngineSetLauncher'>\n",
      "100%|██████████| 4/4 [00:08<00:00,  2.15s/engine]\n",
      "Stopping engine(s): 1729150210\n",
      "engine set stopped 1729150210: {'engines': {'0': {'exit_code': 0, 'pid': 238820, 'identifier': '0'}, '1': {'exit_code': 0, 'pid': 238822, 'identifier': '1'}, '2': {'exit_code': 0, 'pid': 238824, 'identifier': '2'}, '3': {'exit_code': 0, 'pid': 238826, 'identifier': '3'}}, 'exit_code': 0}\n",
      "Stopping controller\n",
      "Controller stopped: {'exit_code': 0, 'pid': 238724, 'identifier': 'ipcontroller-1729150208-9rjx-238698'}\n"
     ]
    }
   ],
   "source": [
    "import os\n",
    "import ipyparallel as ipp\n",
    "\n",
    "cluster = ipp.Cluster(n=4)\n",
    "with cluster as rc:\n",
    "    ar = rc[:].apply_async(os.getpid)\n",
    "    pid_map = ar.get_dict()"
   ]
  },
  {
   "cell_type": "code",
   "execution_count": null,
   "id": "5f7f2f0b-bb1b-4cb7-b38f-90dee514c789",
   "metadata": {},
   "outputs": [],
   "source": []
  }
 ],
 "metadata": {
  "kernelspec": {
   "display_name": "PyTorch CUDA 12.1",
   "language": "python",
   "name": "pytorchcu121"
  },
  "language_info": {
   "codemirror_mode": {
    "name": "ipython",
    "version": 3
   },
   "file_extension": ".py",
   "mimetype": "text/x-python",
   "name": "python",
   "nbconvert_exporter": "python",
   "pygments_lexer": "ipython3",
   "version": "3.10.12"
  }
 },
 "nbformat": 4,
 "nbformat_minor": 5
}
